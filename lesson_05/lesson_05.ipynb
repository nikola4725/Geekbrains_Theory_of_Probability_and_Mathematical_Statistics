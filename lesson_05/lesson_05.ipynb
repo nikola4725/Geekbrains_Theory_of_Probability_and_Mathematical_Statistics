{
 "cells": [
  {
   "cell_type": "markdown",
   "metadata": {},
   "source": [
    "### Урок 5. Проверка статистических гипотез. P-значения. Доверительные интервалы. A/B-тестирование"
   ]
  },
  {
   "cell_type": "code",
   "execution_count": 1,
   "metadata": {},
   "outputs": [],
   "source": [
    "import numpy as np"
   ]
  },
  {
   "cell_type": "markdown",
   "metadata": {},
   "source": [
    "**1. Известно, что генеральная совокупность распределена нормально со средним квадратическим отклонением, равным 16. Найти доверительный интервал для оценки математического ожидания a с надежностью 0.95, если выборочная средняя M = 80, а объем выборки n = 256.**"
   ]
  },
  {
   "cell_type": "code",
   "execution_count": 2,
   "metadata": {},
   "outputs": [
    {
     "name": "stdout",
     "output_type": "stream",
     "text": [
      "[ 78.04 ; 81.96 ]\n"
     ]
    }
   ],
   "source": [
    "Z1 = 80 - 1.96 * 16 / 256**0.5\n",
    "Z2 = 80 + 1.96 * 16 / 256**0.5\n",
    "print('[', Z1, ';', Z2, ']')"
   ]
  },
  {
   "cell_type": "markdown",
   "metadata": {},
   "source": [
    "**2. В результате 10 независимых измерений некоторой величины X, выполненных с одинаковой точностью, получены опытные данные: 6.9, 6.1, 6.2, 6.8, 7.5, 6.3, 6.4, 6.9, 6.7, 6.1 Предполагая, что результаты измерений подчинены нормальному закону распределения вероятностей, оценить истинное значение величины X при помощи доверительного интервала, покрывающего это значение с доверительной вероятностью 0,95.**"
   ]
  },
  {
   "cell_type": "code",
   "execution_count": 3,
   "metadata": {},
   "outputs": [],
   "source": [
    "data = [6.9, 6.1, 6.2, 6.8, 7.5, 6.3, 6.4, 6.9, 6.7, 6.1]\n",
    "X_mean = np.mean(data)\n",
    "sigma = np.std(data, ddof=1)\n",
    "n = 10\n",
    "alpha = 0.05\n",
    "t = 2.262"
   ]
  },
  {
   "cell_type": "code",
   "execution_count": 4,
   "metadata": {},
   "outputs": [
    {
     "name": "stdout",
     "output_type": "stream",
     "text": [
      "[ 6.267538255912426 ; 6.912461744087575 ]\n"
     ]
    }
   ],
   "source": [
    "T1 = X_mean - t * sigma / n**0.5\n",
    "T2 = X_mean + t * sigma / n**0.5\n",
    "print('[', T1, ';', T2, ']')"
   ]
  },
  {
   "cell_type": "markdown",
   "metadata": {},
   "source": [
    "**3. Утверждается, что шарики для подшипников, изготовленные автоматическим станком, имеют средний диаметр 17 мм.\n",
    "Используя односторонний критерий с α=0,05, проверить эту гипотезу, если в выборке из n=100 шариков средний диаметр\n",
    "оказался равным 17.5 мм, а дисперсия известна и равна 4 кв.мм.**"
   ]
  },
  {
   "cell_type": "markdown",
   "metadata": {},
   "source": [
    "H_0: средний диаметр 17мм  \n",
    "H_1: средний диаметр больше 17мм"
   ]
  },
  {
   "cell_type": "code",
   "execution_count": 5,
   "metadata": {},
   "outputs": [],
   "source": [
    "M = 17\n",
    "D = 4\n",
    "X_mean = 17.5\n",
    "sigma = D**0.5\n",
    "n = 100\n",
    "alpha = 0.05\n",
    "z_t = 1.645"
   ]
  },
  {
   "cell_type": "code",
   "execution_count": 6,
   "metadata": {},
   "outputs": [
    {
     "name": "stdout",
     "output_type": "stream",
     "text": [
      "2.5\n",
      "верна гипотеза H_1 на уровне значимости 0.05\n"
     ]
    }
   ],
   "source": [
    "z_n = (X_mean - M) / (sigma / n**0.5)\n",
    "print(z_n)\n",
    "if z_n < z_t:\n",
    "    print(f'верна гипотеза H_0 на уровне значимости {alpha}')\n",
    "else:\n",
    "    print(f'верна гипотеза H_1 на уровне значимости {alpha}')"
   ]
  },
  {
   "cell_type": "markdown",
   "metadata": {},
   "source": [
    "**4. Продавец утверждает, что средний вес пачки печенья составляет 200 г. Из партии извлечена выборка из 10 пачек. Вес каждой пачки составляет: 202, 203, 199, 197, 195, 201, 200, 204, 194, 190. Известно, что их веса распределены нормально. Верно ли утверждение продавца, если учитывать, что доверительная вероятность равна 99%?**"
   ]
  },
  {
   "cell_type": "markdown",
   "metadata": {},
   "source": [
    "H_0: средний вес равен 200г   \n",
    "H_1: средний вес не равен 200г"
   ]
  },
  {
   "cell_type": "code",
   "execution_count": 7,
   "metadata": {},
   "outputs": [
    {
     "data": {
      "text/plain": [
       "(198.5, 4.453463071962462)"
      ]
     },
     "execution_count": 7,
     "metadata": {},
     "output_type": "execute_result"
    }
   ],
   "source": [
    "data = [202, 203, 199, 197, 195, 201, 200, 204, 194, 190]\n",
    "M = 200\n",
    "X_mean = np.mean(data)\n",
    "sigma = np.std(data, ddof=1)\n",
    "n = 10\n",
    "alpha = 0.01\n",
    "t_t_r = 3.250\n",
    "t_t_l = -3.250\n",
    "X_mean, sigma"
   ]
  },
  {
   "cell_type": "code",
   "execution_count": 8,
   "metadata": {},
   "outputs": [
    {
     "name": "stdout",
     "output_type": "stream",
     "text": [
      "-1.0651074037450896\n",
      "верна гипотеза H_0 на уровне значимости 0.01\n"
     ]
    }
   ],
   "source": [
    "t_n = (X_mean - M) / (sigma / n**0.5)\n",
    "print(t_n)\n",
    "if t_n < t_t_r and t_n > t_t_l:\n",
    "    print(f'верна гипотеза H_0 на уровне значимости {alpha}')\n",
    "else:\n",
    "    print(f'верна гипотеза H_1 на уровне значимости {alpha}')"
   ]
  }
 ],
 "metadata": {
  "kernelspec": {
   "display_name": "Python 3",
   "language": "python",
   "name": "python3"
  },
  "language_info": {
   "codemirror_mode": {
    "name": "ipython",
    "version": 3
   },
   "file_extension": ".py",
   "mimetype": "text/x-python",
   "name": "python",
   "nbconvert_exporter": "python",
   "pygments_lexer": "ipython3",
   "version": "3.7.3"
  }
 },
 "nbformat": 4,
 "nbformat_minor": 2
}
