{
 "cells": [
  {
   "cell_type": "markdown",
   "metadata": {},
   "source": [
    "### Урок 7. Многомерный статистический анализ. Линейная регрессия"
   ]
  },
  {
   "cell_type": "code",
   "execution_count": 1,
   "metadata": {},
   "outputs": [],
   "source": [
    "import numpy as np\n",
    "from sklearn.metrics import mean_squared_error\n",
    "import matplotlib.pyplot as plt\n",
    "%matplotlib inline"
   ]
  },
  {
   "cell_type": "markdown",
   "metadata": {},
   "source": [
    "**1. Даны значения величины заработной платы заемщиков банка (zp) и значения их поведенческого кредитного скоринга (ks): zp = [35, 45, 190, 200, 40, 70, 54, 150, 120, 110], ks = [401, 574, 874, 919, 459, 739, 653, 902, 746, 832]. Используя математические операции, посчитать коэффициенты линейной регрессии, приняв за X заработную плату (то есть, zp - признак), а за y - значения скорингового балла (то есть, ks - целевая переменная). Произвести расчет как с использованием intercept, так и без.**"
   ]
  },
  {
   "cell_type": "code",
   "execution_count": 2,
   "metadata": {},
   "outputs": [],
   "source": [
    "X = np.array([35, 45, 190, 200, 40, 70, 54, 150, 120, 110])\n",
    "y = np.array([401, 574, 874, 919, 459, 739, 653, 902, 746, 832])"
   ]
  },
  {
   "cell_type": "markdown",
   "metadata": {},
   "source": [
    "**с интерсептом:**"
   ]
  },
  {
   "cell_type": "code",
   "execution_count": 3,
   "metadata": {},
   "outputs": [
    {
     "data": {
      "text/plain": [
       "10"
      ]
     },
     "execution_count": 3,
     "metadata": {},
     "output_type": "execute_result"
    }
   ],
   "source": [
    "n = len(X)\n",
    "n"
   ]
  },
  {
   "cell_type": "code",
   "execution_count": 4,
   "metadata": {},
   "outputs": [
    {
     "data": {
      "text/plain": [
       "2.6205388824027653"
      ]
     },
     "execution_count": 4,
     "metadata": {},
     "output_type": "execute_result"
    }
   ],
   "source": [
    "b = (n * (np.sum(X*y)) - (np.sum(X) * np.sum(y))) / (n * (np.sum(X**2)) - (np.sum(X)**2))\n",
    "b"
   ]
  },
  {
   "cell_type": "code",
   "execution_count": 5,
   "metadata": {},
   "outputs": [
    {
     "data": {
      "text/plain": [
       "444.17735732435955"
      ]
     },
     "execution_count": 5,
     "metadata": {},
     "output_type": "execute_result"
    }
   ],
   "source": [
    "a = np.mean(y) - b * np.mean(X)\n",
    "a"
   ]
  },
  {
   "cell_type": "code",
   "execution_count": 6,
   "metadata": {},
   "outputs": [
    {
     "data": {
      "text/plain": [
       "array([535.89621821, 562.10160703, 942.07974498, 968.2851338 ,\n",
       "       548.99891262, 627.61507909, 585.68645697, 837.25818968,\n",
       "       758.64202321, 732.43663439])"
      ]
     },
     "execution_count": 6,
     "metadata": {},
     "output_type": "execute_result"
    }
   ],
   "source": [
    "y1_hat = a + b * X\n",
    "y1_hat"
   ]
  },
  {
   "cell_type": "markdown",
   "metadata": {},
   "source": [
    "**без интерсепта:**"
   ]
  },
  {
   "cell_type": "code",
   "execution_count": 7,
   "metadata": {},
   "outputs": [],
   "source": [
    "X2 = X.reshape(10, 1)\n",
    "y2 = y.reshape(10, 1)"
   ]
  },
  {
   "cell_type": "code",
   "execution_count": 8,
   "metadata": {},
   "outputs": [
    {
     "data": {
      "text/plain": [
       "array([5.88982042])"
      ]
     },
     "execution_count": 8,
     "metadata": {},
     "output_type": "execute_result"
    }
   ],
   "source": [
    "B = np.dot(np.linalg.inv(np.dot(X2.T, X2)),X2.T@y)\n",
    "B"
   ]
  },
  {
   "cell_type": "code",
   "execution_count": 9,
   "metadata": {},
   "outputs": [
    {
     "data": {
      "text/plain": [
       "array([ 206.1437147 ,  265.04191891, 1119.06587983, 1177.96408403,\n",
       "        235.59281681,  412.28742941,  318.05030269,  883.47306302,\n",
       "        706.77845042,  647.88024621])"
      ]
     },
     "execution_count": 9,
     "metadata": {},
     "output_type": "execute_result"
    }
   ],
   "source": [
    "y2_hat = B * X\n",
    "y2_hat"
   ]
  },
  {
   "cell_type": "code",
   "execution_count": 11,
   "metadata": {},
   "outputs": [
    {
     "data": {
      "image/png": "[encoded data removed]",
      "text/plain": [
       "<Figure size 432x288 with 1 Axes>"
      ]
     },
     "metadata": {
      "needs_background": "light"
     },
     "output_type": "display_data"
    }
   ],
   "source": [
    "plt.grid()\n",
    "plt.scatter(X, y)\n",
    "plt.plot(X, y1_hat, color='green')\n",
    "plt.plot(X, y2_hat, color='red')\n",
    "plt.show()"
   ]
  },
  {
   "cell_type": "markdown",
   "metadata": {},
   "source": [
    "**2. Посчитать коэффициент линейной регрессии при заработной плате (zp), используя градиентный спуск (без intercept).**"
   ]
  },
  {
   "cell_type": "code",
   "execution_count": 12,
   "metadata": {},
   "outputs": [],
   "source": [
    "X = np.array([35, 45, 190, 200, 40, 70, 54, 150, 120, 110])\n",
    "y = np.array([401, 574, 874, 919, 459, 739, 653, 902, 746, 832])\n",
    "n = len(X)"
   ]
  },
  {
   "cell_type": "code",
   "execution_count": 13,
   "metadata": {},
   "outputs": [],
   "source": [
    "def mse_(B1, y=y, X=X, n=n):\n",
    "    return np.sum((B1*X - y)**2) / n"
   ]
  },
  {
   "cell_type": "code",
   "execution_count": 14,
   "metadata": {},
   "outputs": [
    {
     "name": "stdout",
     "output_type": "stream",
     "text": [
      "iteration: 0, B1 = 9.8867514, mse = 276604.34287384455\n",
      "iteration: 50, B1 = 6.878417278270489, mse = 69981.0567613131\n",
      "iteration: 100, B1 = 6.134338965197076, mse = 57340.5519462072\n",
      "iteration: 150, B1 = 5.950299389277936, mse = 56567.24916418826\n",
      "iteration: 200, B1 = 5.904779227072703, mse = 56519.94114908718\n",
      "iteration: 250, B1 = 5.893520316282229, mse = 56517.04700678632\n",
      "iteration: 300, B1 = 5.890735548696904, mse = 56516.86995307483\n",
      "iteration: 350, B1 = 5.890046767104388, mse = 56516.859121535286\n",
      "iteration: 400, B1 = 5.889876404563293, mse = 56516.8584588988\n",
      "iteration: 450, B1 = 5.88983426726502, mse = 56516.85841836096\n",
      "iteration: 500, B1 = 5.889823845068368, mse = 56516.85841588101\n",
      "iteration: 550, B1 = 5.889821267252808, mse = 56516.85841572929\n",
      "iteration: 600, B1 = 5.88982062965852, mse = 56516.85841572002\n",
      "iteration: 650, B1 = 5.889820471956595, mse = 56516.85841571945\n",
      "iteration: 700, B1 = 5.889820432950761, mse = 56516.85841571941\n",
      "iteration: 750, B1 = 5.889820423303099, mse = 56516.85841571941\n",
      "iteration: 800, B1 = 5.8898204209168545, mse = 56516.85841571941\n",
      "iteration: 850, B1 = 5.889820420326644, mse = 56516.8584157194\n",
      "iteration: 900, B1 = 5.889820420180661, mse = 56516.8584157194\n",
      "iteration: 950, B1 = 5.889820420144554, mse = 56516.85841571943\n",
      "iteration: 1000, B1 = 5.8898204201356235, mse = 56516.85841571941\n"
     ]
    }
   ],
   "source": [
    "alpha = 1e-6\n",
    "B1 = 10\n",
    "for i in range(1001):\n",
    "    B1 -= alpha * (2/n) * np.sum((B1*X - y) * X)\n",
    "    if i % 50 == 0:\n",
    "        print(f'iteration: {i}, B1 = {B1}, mse = {mse_(B1)}')"
   ]
  },
  {
   "cell_type": "markdown",
   "metadata": {},
   "source": [
    "**3. В каких случаях для вычисления доверительных интервалов и проверки статистических гипотез используется таблица значений функции Лапласа, а в каких - таблица критических точек распределения Стьюдента?**"
   ]
  },
  {
   "cell_type": "markdown",
   "metadata": {},
   "source": [
    "Если известна сигма или дисперсия генеральной совокупности, то используется таблица значений функции Лапласа. В противном случае - таблица критических точек распределения Стьюдента."
   ]
  },
  {
   "cell_type": "markdown",
   "metadata": {},
   "source": [
    "***4. Произвести вычисления как в пункте 2, но с вычислением intercept. Учесть, что изменение коэффициентов должно производиться на каждом шаге одновременно (то есть изменение одного коэффициента не должно влиять на изменение другого во время одной итерации).**"
   ]
  },
  {
   "cell_type": "code",
   "execution_count": 15,
   "metadata": {},
   "outputs": [],
   "source": [
    "X = np.array([35, 45, 190, 200, 40, 70, 54, 150, 120, 110])\n",
    "y = np.array([401, 574, 874, 919, 459, 739, 653, 902, 746, 832])\n",
    "n = len(X)"
   ]
  },
  {
   "cell_type": "code",
   "execution_count": 16,
   "metadata": {},
   "outputs": [],
   "source": [
    "def mse2_(B0, B1, y=y, X=X, n=n):\n",
    "    return np.sum((B0 + B1*X - y)**2) / n"
   ]
  },
  {
   "cell_type": "code",
   "execution_count": 18,
   "metadata": {},
   "outputs": [
    {
     "name": "stdout",
     "output_type": "stream",
     "text": [
      "iteration: 0, B0 = 444.999999214, B1 = 2.999893778, mse = 8516.971782351871\n",
      "iteration: 50000, B0 = 444.996954665133, B1 = 2.6145066832534716, mse = 6470.584597994019\n",
      "iteration: 100000, B0 = 444.99674679673785, B1 = 2.6145078136134354, mse = 6470.584511571034\n",
      "iteration: 150000, B0 = 444.99653898398986, B1 = 2.6145093432066617, mse = 6470.584425194086\n",
      "iteration: 200000, B0 = 444.99633122395994, B1 = 2.6145108724125024, mse = 6470.584338860943\n",
      "iteration: 250000, B0 = 444.9961235166149, B1 = 2.6145124012303, mse = 6470.584252571587\n",
      "iteration: 300000, B0 = 444.9959158619493, B1 = 2.614513929660532, mse = 6470.584166325996\n",
      "iteration: 350000, B0 = 444.99570825995255, B1 = 2.6145154577030274, mse = 6470.584080124148\n",
      "iteration: 400000, B0 = 444.99550071059946, B1 = 2.6145169853580135, mse = 6470.583993966016\n",
      "iteration: 450000, B0 = 444.99529321389645, B1 = 2.6145185126255233, mse = 6470.583907851581\n",
      "iteration: 500000, B0 = 444.99508576980423, B1 = 2.6145200395056465, mse = 6470.583821780815\n",
      "iteration: 550000, B0 = 444.9948783783402, B1 = 2.614521565998635, mse = 6470.583735753713\n",
      "iteration: 600000, B0 = 444.9946710394568, B1 = 2.6145230921042986, mse = 6470.583649770236\n",
      "iteration: 650000, B0 = 444.994463753177, B1 = 2.6145246178231507, mse = 6470.5835638303715\n",
      "iteration: 700000, B0 = 444.9942565194508, B1 = 2.614526143154796, mse = 6470.5834779340885\n",
      "iteration: 750000, B0 = 444.99404933830056, B1 = 2.6145276680997673, mse = 6470.583392081376\n",
      "iteration: 800000, B0 = 444.9938422096796, B1 = 2.6145291926579404, mse = 6470.5833062721995\n",
      "iteration: 850000, B0 = 444.993635133604, B1 = 2.6145307168294187, mse = 6470.583220506548\n",
      "iteration: 900000, B0 = 444.9934281100361, B1 = 2.6145322406145306, mse = 6470.583134784392\n",
      "iteration: 950000, B0 = 444.99322113898023, B1 = 2.6145337640129034, mse = 6470.58304910571\n",
      "iteration: 1000000, B0 = 444.9930142204135, B1 = 2.61453528702512, mse = 6470.582963470482\n"
     ]
    }
   ],
   "source": [
    "alpha = 1e-8\n",
    "B0 = 445\n",
    "B1 = 3\n",
    "for i in range(1000001):\n",
    "    B0_temp = B0\n",
    "    B0 -= alpha * (2/n) * np.sum((B0_temp + B1*X - y))\n",
    "    B1 -= alpha * (2/n) * np.sum((B0_temp + B1*X - y) * X)\n",
    "    if i % 50000 == 0:\n",
    "        print(f'iteration: {i}, B0 = {B0}, B1 = {B1}, mse = {mse2_(B0, B1)}')"
   ]
  },
  {
   "cell_type": "markdown",
   "metadata": {},
   "source": [
    "**Тут не смог подобрать параметры, чтобы получить коэфициенты точно как в задании 1 с интерсептом. Ошибся где-то в формулах или нужно больше итераций? (увеличение количества итераций еще хотя бы на порядок занимает слишком много времени для вычислений - не дождался)**"
   ]
  }
 ],
 "metadata": {
  "kernelspec": {
   "display_name": "Python 3",
   "language": "python",
   "name": "python3"
  },
  "language_info": {
   "codemirror_mode": {
    "name": "ipython",
    "version": 3
   },
   "file_extension": ".py",
   "mimetype": "text/x-python",
   "name": "python",
   "nbconvert_exporter": "python",
   "pygments_lexer": "ipython3",
   "version": "3.7.3"
  }
 },
 "nbformat": 4,
 "nbformat_minor": 2
}
